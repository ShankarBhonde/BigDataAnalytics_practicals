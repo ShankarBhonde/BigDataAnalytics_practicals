{
 "cells": [
  {
   "cell_type": "markdown",
   "id": "13c56cc4",
   "metadata": {},
   "source": [
    "# To perform hypothesis testing using Z-Test"
   ]
  },
  {
   "cell_type": "code",
   "execution_count": 1,
   "id": "910d5e2d",
   "metadata": {},
   "outputs": [],
   "source": [
    "# Name: Shankar Sakharam Bhonde\n",
    "# Roll no.: 12\n",
    "# Sec: A"
   ]
  },
  {
   "cell_type": "code",
   "execution_count": 2,
   "id": "4b2b4cff",
   "metadata": {},
   "outputs": [
    {
     "name": "stdout",
     "output_type": "stream",
     "text": [
      "[38 22  8 31 25 30 40 27 35 48 66 92 99  8 20 11 39 78 41  2 59 23 94 13\n",
      " 36 20 28 16  8 41 85 82 59 72 16 58  7 25 59 65 25 28 10 37  8 46  4 10\n",
      " 98 93]\n"
     ]
    }
   ],
   "source": [
    "import numpy as np\n",
    "a=np.random.randint(1,100,50)\n",
    "print(a)"
   ]
  },
  {
   "cell_type": "code",
   "execution_count": 3,
   "id": "4e4dc354",
   "metadata": {},
   "outputs": [
    {
     "data": {
      "text/plain": [
       "50"
      ]
     },
     "execution_count": 3,
     "metadata": {},
     "output_type": "execute_result"
    }
   ],
   "source": [
    "len(a)"
   ]
  },
  {
   "cell_type": "code",
   "execution_count": 4,
   "id": "0a11f486",
   "metadata": {},
   "outputs": [],
   "source": [
    "import pandas as pd\n",
    "from scipy import stats\n",
    "from statsmodels.stats import weightstats as stests"
   ]
  },
  {
   "cell_type": "code",
   "execution_count": 5,
   "id": "12a8ebb3",
   "metadata": {},
   "outputs": [
    {
     "name": "stdout",
     "output_type": "stream",
     "text": [
      "[64 54 75 13 97 71  1 44 12 39 70 18 53  7 49 75 61 60 16  8 10 14 62 91\n",
      " 74 49  7 82 43  8 61  3  7 20 74 81 72 69 94 88  5 78 19 46 17 48 97 38\n",
      " 66 63]\n"
     ]
    }
   ],
   "source": [
    "# Generate 50 random integers between 1 and 100\n",
    "random_numbers = np.random.randint(1, 101, size=50)\n",
    "\n",
    "print(random_numbers)"
   ]
  },
  {
   "cell_type": "code",
   "execution_count": 6,
   "id": "9e73b220",
   "metadata": {},
   "outputs": [],
   "source": [
    "a=[61,93,84,14,61,45,59,37,21,95,60,24,52,30,82,23,26,59,60,67,29,80,15,47,\n",
    "  61,55,47,31,65,53,55,28,26,8,42,52,46,48,51,31,51,31,81,38,51,35,33,60,53,28,72,64]"
   ]
  },
  {
   "cell_type": "code",
   "execution_count": 7,
   "id": "a3c1cdf7",
   "metadata": {},
   "outputs": [
    {
     "name": "stdout",
     "output_type": "stream",
     "text": [
      "1.684641312810732e-73\n"
     ]
    }
   ],
   "source": [
    "z_test, p_val=stests.ztest(a, x2=None, value=100)\n",
    "print(p_val)"
   ]
  },
  {
   "cell_type": "code",
   "execution_count": 8,
   "id": "590c8a8b",
   "metadata": {},
   "outputs": [
    {
     "name": "stdout",
     "output_type": "stream",
     "text": [
      "We are rejecting null Hypothesis\n"
     ]
    }
   ],
   "source": [
    "if p_val<0.05:\n",
    "    print(\"We are rejecting null Hypothesis\")\n",
    "else:\n",
    "    print(\"We are accepting null Hypothesis\")"
   ]
  },
  {
   "cell_type": "code",
   "execution_count": null,
   "id": "a999ae8f",
   "metadata": {},
   "outputs": [],
   "source": []
  },
  {
   "cell_type": "code",
   "execution_count": null,
   "id": "d331d0a0",
   "metadata": {},
   "outputs": [],
   "source": []
  }
 ],
 "metadata": {
  "kernelspec": {
   "display_name": "Python 3 (ipykernel)",
   "language": "python",
   "name": "python3"
  },
  "language_info": {
   "codemirror_mode": {
    "name": "ipython",
    "version": 3
   },
   "file_extension": ".py",
   "mimetype": "text/x-python",
   "name": "python",
   "nbconvert_exporter": "python",
   "pygments_lexer": "ipython3",
   "version": "3.11.5"
  }
 },
 "nbformat": 4,
 "nbformat_minor": 5
}
